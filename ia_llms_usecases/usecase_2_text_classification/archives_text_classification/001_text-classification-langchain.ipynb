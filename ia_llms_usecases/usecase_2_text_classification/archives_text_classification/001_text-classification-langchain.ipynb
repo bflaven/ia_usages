{
 "cells": [
  {
   "cell_type": "markdown",
   "metadata": {},
   "source": [
    "# Step 1: Investigate dataframe with the right anaconda env"
   ]
  },
  {
   "cell_type": "markdown",
   "metadata": {},
   "source": [
    "### if you are working in a jupyter notebook, this is that you install packages\n",
    "\n",
    "```bash\n",
    "# ! pip install pandas \n",
    "# ! pip install numpy\n",
    "# ! pip install matplotlib\n",
    "# ! pip install plotly\n",
    "# ! pip install seaborn\n",
    "```"
   ]
  },
  {
   "cell_type": "markdown",
   "metadata": {},
   "source": [
    "## Create and load the anaconda env with the correct packages\n",
    "\n",
    "I am using Anaconda and the terminal in a files named `001_text_classification.py, 002_text_classification.py...`"
   ]
  },
  {
   "cell_type": "markdown",
   "metadata": {},
   "source": [
    "```bash\n",
    "\n",
    "[env]\n",
    "# Conda Environment\n",
    "conda create --name sentiment_analysis python=3.9.13\n",
    "conda info --envs\n",
    "source activate sentiment_analysis\n",
    "conda deactivate\n",
    "\n",
    "# if needed to remove\n",
    "conda env remove -n [NAME_OF_THE_CONDA_ENVIRONMENT]\n",
    "conda env remove -n sentiment_analysis\n",
    "conda env remove -n faststream_kafka\n",
    "\n",
    "\n",
    "\n",
    "# update conda \n",
    "conda update -n base -c defaults conda\n",
    "\n",
    "# to export requirements\n",
    "pip freeze > requirements.txt\n",
    "\n",
    "# to install\n",
    "pip install -r requirements.txt\n",
    "\n",
    "\n",
    "# [path]\n",
    "cd /Users/brunoflaven/Documents/02_copy/DERA_Ghislain_USECASES/\n",
    "\n",
    "# LAUNCH the file\n",
    "python 001_text_classification.py\n",
    "jupyter notebook\n",
    "\n",
    "```"
   ]
  },
  {
   "cell_type": "markdown",
   "metadata": {},
   "source": [
    "## Some explorations of the dataframe + data manipulations (wrangling)"
   ]
  },
  {
   "cell_type": "code",
   "execution_count": 3,
   "metadata": {},
   "outputs": [
    {
     "name": "stdout",
     "output_type": "stream",
     "text": [
      "\n",
      " --- result_1\n",
      "The dataset contains 5 unique categories\n",
      "                                                Text     Label\n",
      "0  Budget to set scene for election\\n \\n Gordon B...  Politics\n",
      "1  Army chiefs in regiments decision\\n \\n Militar...  Politics\n",
      "2  Howard denies split over ID cards\\n \\n Michael...  Politics\n",
      "3  Observers to monitor UK election\\n \\n Minister...  Politics\n",
      "4  Kilroy names election seat target\\n \\n Ex-chat...  Politics\n",
      "\n",
      " --- result_2\n"
     ]
    }
   ],
   "source": [
    "import pandas as pd\n",
    "import numpy as np\n",
    "import matplotlib.pyplot as plt\n",
    "import plotly.express as px\n",
    "import seaborn as sns\n",
    "import warnings\n",
    "# To save hugging face access token in environment\n",
    "import os \n",
    "\n",
    "# warnings.filterwarnings(\"ignore\")\n",
    "# %matplotlib inline\n",
    "\n",
    "# below imports for langchain framework\n",
    "# from langchain import HuggingFaceHub\n",
    "# from langchain.chains import LLMChain\n",
    "# from langchain.prompts import PromptTemplate\n",
    "\n",
    "FULL_CSV_SOURCE='data/df_file_1.csv'\n",
    "\n",
    "\n",
    "df = pd.read_csv(FULL_CSV_SOURCE)\n",
    "# print(df)\n",
    "# print(df.head())\n",
    "\n",
    "# columns\n",
    "# df.columns\n",
    "# print(df.columns)\n",
    "\n",
    "# df.info()\n",
    "# print(df.info())\n",
    "\n",
    "\n",
    "\n",
    "# updating data with 'Label' column to decode the integer labels with categorical labesl for easy inference\n",
    "vis_df = df\n",
    "vis_df['Label'] = vis_df['Label'].map({0:'Politics',1:'Sport',2:'Technology',3:'Entertainment',4:'Business'})\n",
    "\n",
    "print('\\n --- result_1')\n",
    "print(f\"The dataset contains { vis_df.Label.nunique() } unique categories\")\n",
    "# print(vis_df.columns)\n",
    "print(vis_df.head())\n",
    "\n",
    "print('\\n --- result_2')\n",
    "# filtered_rows = df[(df['Label'] == 0) | (df['Label'] == 3)]\n",
    "\n",
    "# filtered_rows = df[(df['Label'] == 'Politics')]\n",
    "# filtered_rows = df[(df['Label'] == 'Sport')]\n",
    "# filtered_rows = df[(df['Label'] == 'Technology')]\n",
    "# filtered_rows = df[(df['Label'] == 'Entertainment')]\n",
    "# filtered_rows = df[(df['Label'] == 'Business')]\n",
    "# print(filtered_rows)"
   ]
  },
  {
   "cell_type": "code",
   "execution_count": 6,
   "metadata": {},
   "outputs": [],
   "source": [
    "#calculating the length of text\n",
    "df['text_len'] = df['Text'].apply(lambda x: len(str(x).split()))\n",
    "\n",
    "# output\n",
    "# print(df['text_len'])\n"
   ]
  },
  {
   "cell_type": "code",
   "execution_count": 13,
   "metadata": {},
   "outputs": [
    {
     "data": {
      "image/png": "[encoded data removed]",
      "text/plain": [
       "<Figure size 640x480 with 1 Axes>"
      ]
     },
     "metadata": {},
     "output_type": "display_data"
    }
   ],
   "source": [
    "\n",
    "# DEPRECATED\n",
    "# sns.distplot(df['text_len'])\n",
    "# plt.title('Description Number of Words')\n",
    "# plt.show()\n",
    "\n",
    "# check https://gist.github.com/mwaskom/de44147ed2974457ad6372750bbe5751\n",
    "\n",
    "# example_1\n",
    "# sns.histplot(df[\"text_len\"])\n",
    "\n",
    "# example_2\n",
    "# sns.displot(df[\"text_len\"])\n",
    "\n",
    "# example_3\n",
    "sns.histplot(df[\"text_len\"], kde=True)\n",
    "\n",
    "# example_4\n",
    "# sns.histplot(df[\"text_len\"], kde=True, stat=\"density\")\n",
    "\n",
    "# example_5\n",
    "\"\"\"\n",
    "sns.histplot(\n",
    "    df[\"text_len\"], kde=True,\n",
    "    stat=\"density\", kde_kws=dict(cut=3)\n",
    ")\n",
    "\"\"\"\n",
    "# example_6\n",
    "\n",
    "\"\"\"\n",
    "sns.histplot(\n",
    "    df[\"text_len\"], kde=True,\n",
    "    stat=\"density\", kde_kws=dict(cut=3),\n",
    "    alpha=.4, edgecolor=(1, 1, 1, .4),\n",
    ")\n",
    "\"\"\"\n",
    "\n",
    "# example_6\n",
    "# sns.kdeplot(df[\"text_len\"])\n",
    "\n",
    "# example_7\n",
    "# sns.displot(df[\"text_len\"], kind=\"kde\")\n",
    "\n",
    "# example_8\n",
    "\"\"\"\n",
    "sns.histplot(df, x=\"text_len\", alpha=.4)\n",
    "sns.rugplot(df, x=\"text_len\")\n",
    "\"\"\"\n",
    "\n",
    "# example_9\n",
    "# sns.displot(df, x=\"text_len\", alpha=.4, rug=True)\n",
    "\n",
    "\n",
    "# legend\n",
    "plt.title('Description Number of Words')\n",
    "plt.show()\n",
    "\n"
   ]
  },
  {
   "cell_type": "code",
   "execution_count": 14,
   "metadata": {},
   "outputs": [
    {
     "name": "stdout",
     "output_type": "stream",
     "text": [
      "                                                   Text          Label  \\\n",
      "0     David Blunkett in quotes\\n \\n David Blunkett -...       Politics   \n",
      "1     Benitez issues warning to Gerrard\\n \\n Liverpo...          Sport   \n",
      "2     Brookside creator's Channel 4 bid\\n \\n The cre...  Entertainment   \n",
      "3     Brown visits slum on Africa trip\\n \\n Chancell...       Politics   \n",
      "4     Gritty return for Prince of Persia\\n \\n Still ...     Technology   \n",
      "...                                                 ...            ...   \n",
      "2220  Moreno debut makes Oscar mark\\n \\n Catalina Sa...  Entertainment   \n",
      "2221  Musical future for phones\\n \\n Analyst Bill Th...     Technology   \n",
      "2222  What's next for next-gen consoles?\\n \\n The ne...     Technology   \n",
      "2223  Humanoid robot learns how to run\\n \\n Car-make...     Technology   \n",
      "2224  Jones happy with Henson heroics\\n \\n Wales fly...          Sport   \n",
      "\n",
      "      text_len  \n",
      "0          289  \n",
      "1          158  \n",
      "2          164  \n",
      "3          258  \n",
      "4          523  \n",
      "...        ...  \n",
      "2220       220  \n",
      "2221       923  \n",
      "2222       847  \n",
      "2223       399  \n",
      "2224       453  \n",
      "\n",
      "[2225 rows x 3 columns]\n"
     ]
    }
   ],
   "source": [
    "# shuffling the dataframe to pick random set of text for the experiment\n",
    "df = df.sample(frac=1, random_state=42).reset_index(drop=True)\n",
    "\n",
    "# output\n",
    "# print (df)"
   ]
  },
  {
   "cell_type": "code",
   "execution_count": 16,
   "metadata": {},
   "outputs": [
    {
     "data": {
      "text/html": [
       "<div>\n",
       "<style scoped>\n",
       "    .dataframe tbody tr th:only-of-type {\n",
       "        vertical-align: middle;\n",
       "    }\n",
       "\n",
       "    .dataframe tbody tr th {\n",
       "        vertical-align: top;\n",
       "    }\n",
       "\n",
       "    .dataframe thead th {\n",
       "        text-align: right;\n",
       "    }\n",
       "</style>\n",
       "<table border=\"1\" class=\"dataframe\">\n",
       "  <thead>\n",
       "    <tr style=\"text-align: right;\">\n",
       "      <th></th>\n",
       "      <th>Text</th>\n",
       "      <th>Label</th>\n",
       "      <th>text_len</th>\n",
       "    </tr>\n",
       "  </thead>\n",
       "  <tbody>\n",
       "    <tr>\n",
       "      <th>0</th>\n",
       "      <td>David Blunkett in quotes\\n \\n David Blunkett -...</td>\n",
       "      <td>Politics</td>\n",
       "      <td>289</td>\n",
       "    </tr>\n",
       "    <tr>\n",
       "      <th>1</th>\n",
       "      <td>Benitez issues warning to Gerrard\\n \\n Liverpo...</td>\n",
       "      <td>Sport</td>\n",
       "      <td>158</td>\n",
       "    </tr>\n",
       "    <tr>\n",
       "      <th>2</th>\n",
       "      <td>Brookside creator's Channel 4 bid\\n \\n The cre...</td>\n",
       "      <td>Entertainment</td>\n",
       "      <td>164</td>\n",
       "    </tr>\n",
       "    <tr>\n",
       "      <th>3</th>\n",
       "      <td>Brown visits slum on Africa trip\\n \\n Chancell...</td>\n",
       "      <td>Politics</td>\n",
       "      <td>258</td>\n",
       "    </tr>\n",
       "    <tr>\n",
       "      <th>4</th>\n",
       "      <td>Gritty return for Prince of Persia\\n \\n Still ...</td>\n",
       "      <td>Technology</td>\n",
       "      <td>523</td>\n",
       "    </tr>\n",
       "  </tbody>\n",
       "</table>\n",
       "</div>"
      ],
      "text/plain": [
       "                                                Text          Label  text_len\n",
       "0  David Blunkett in quotes\\n \\n David Blunkett -...       Politics       289\n",
       "1  Benitez issues warning to Gerrard\\n \\n Liverpo...          Sport       158\n",
       "2  Brookside creator's Channel 4 bid\\n \\n The cre...  Entertainment       164\n",
       "3  Brown visits slum on Africa trip\\n \\n Chancell...       Politics       258\n",
       "4  Gritty return for Prince of Persia\\n \\n Still ...     Technology       523"
      ]
     },
     "execution_count": 16,
     "metadata": {},
     "output_type": "execute_result"
    }
   ],
   "source": [
    "#list of all categories\n",
    "categories = ['Politics','Sport','Technology','Entertainment','Business']\n",
    "\n",
    "# data frame after shuffling\n",
    "df.head()"
   ]
  },
  {
   "cell_type": "code",
   "execution_count": null,
   "metadata": {},
   "outputs": [],
   "source": []
  }
 ],
 "metadata": {
  "kaggle": {
   "accelerator": "none",
   "dataSources": [
    {
     "datasetId": 4107678,
     "sourceId": 7121520,
     "sourceType": "datasetVersion"
    }
   ],
   "dockerImageVersionId": 30627,
   "isGpuEnabled": false,
   "isInternetEnabled": true,
   "language": "python",
   "sourceType": "notebook"
  },
  "kernelspec": {
   "display_name": "Python 3 (ipykernel)",
   "language": "python",
   "name": "python3"
  },
  "language_info": {
   "codemirror_mode": {
    "name": "ipython",
    "version": 3
   },
   "file_extension": ".py",
   "mimetype": "text/x-python",
   "name": "python",
   "nbconvert_exporter": "python",
   "pygments_lexer": "ipython3",
   "version": "3.11.7"
  }
 },
 "nbformat": 4,
 "nbformat_minor": 4
}
